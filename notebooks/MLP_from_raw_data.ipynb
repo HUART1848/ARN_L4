{
 "cells": [
  {
   "cell_type": "markdown",
   "metadata": {
    "id": "Ic-cqm0tbUc3"
   },
   "source": [
    "# Multilayer Perceptron from raw data\n",
    "This notebook will guide you through the use of the `keras` package to train a multilayer perceptron for handwritten digits classification. You are going to use the `mnist` dataset from LeCun et al. 1998"
   ]
  },
  {
   "cell_type": "markdown",
   "metadata": {
    "id": "ND1Cf9lXbUc6"
   },
   "source": [
    "## Loading the packages"
   ]
  },
  {
   "cell_type": "code",
   "execution_count": 2,
   "metadata": {
    "id": "Pvq0DhLtbUdE"
   },
   "outputs": [
    {
     "name": "stdout",
     "output_type": "stream",
     "text": [
      "Requirement already satisfied: tensorflow in /Users/shabnam/opt/anaconda3/envs/ARN_2023/lib/python3.9/site-packages (2.12.0)\n",
      "Requirement already satisfied: flatbuffers>=2.0 in /Users/shabnam/opt/anaconda3/envs/ARN_2023/lib/python3.9/site-packages (from tensorflow) (23.3.3)\n",
      "Requirement already satisfied: tensorflow-io-gcs-filesystem>=0.23.1 in /Users/shabnam/opt/anaconda3/envs/ARN_2023/lib/python3.9/site-packages (from tensorflow) (0.32.0)\n",
      "Requirement already satisfied: tensorflow-estimator<2.13,>=2.12.0 in /Users/shabnam/opt/anaconda3/envs/ARN_2023/lib/python3.9/site-packages (from tensorflow) (2.12.0)\n",
      "Requirement already satisfied: astunparse>=1.6.0 in /Users/shabnam/opt/anaconda3/envs/ARN_2023/lib/python3.9/site-packages (from tensorflow) (1.6.3)\n",
      "Requirement already satisfied: opt-einsum>=2.3.2 in /Users/shabnam/opt/anaconda3/envs/ARN_2023/lib/python3.9/site-packages (from tensorflow) (3.3.0)\n",
      "Requirement already satisfied: protobuf!=4.21.0,!=4.21.1,!=4.21.2,!=4.21.3,!=4.21.4,!=4.21.5,<5.0.0dev,>=3.20.3 in /Users/shabnam/opt/anaconda3/envs/ARN_2023/lib/python3.9/site-packages (from tensorflow) (4.22.1)\n",
      "Requirement already satisfied: wrapt<1.15,>=1.11.0 in /Users/shabnam/opt/anaconda3/envs/ARN_2023/lib/python3.9/site-packages (from tensorflow) (1.14.1)\n",
      "Requirement already satisfied: packaging in /Users/shabnam/opt/anaconda3/envs/ARN_2023/lib/python3.9/site-packages (from tensorflow) (23.1)\n",
      "Requirement already satisfied: termcolor>=1.1.0 in /Users/shabnam/opt/anaconda3/envs/ARN_2023/lib/python3.9/site-packages (from tensorflow) (2.2.0)\n",
      "Requirement already satisfied: six>=1.12.0 in /Users/shabnam/opt/anaconda3/envs/ARN_2023/lib/python3.9/site-packages (from tensorflow) (1.16.0)\n",
      "Requirement already satisfied: keras<2.13,>=2.12.0 in /Users/shabnam/opt/anaconda3/envs/ARN_2023/lib/python3.9/site-packages (from tensorflow) (2.12.0)\n",
      "Requirement already satisfied: setuptools in /Users/shabnam/opt/anaconda3/envs/ARN_2023/lib/python3.9/site-packages (from tensorflow) (65.6.3)\n",
      "Requirement already satisfied: google-pasta>=0.1.1 in /Users/shabnam/opt/anaconda3/envs/ARN_2023/lib/python3.9/site-packages (from tensorflow) (0.2.0)\n",
      "Requirement already satisfied: typing-extensions>=3.6.6 in /Users/shabnam/opt/anaconda3/envs/ARN_2023/lib/python3.9/site-packages (from tensorflow) (4.5.0)\n",
      "Requirement already satisfied: jax>=0.3.15 in /Users/shabnam/opt/anaconda3/envs/ARN_2023/lib/python3.9/site-packages (from tensorflow) (0.4.8)\n",
      "Requirement already satisfied: absl-py>=1.0.0 in /Users/shabnam/opt/anaconda3/envs/ARN_2023/lib/python3.9/site-packages (from tensorflow) (1.4.0)\n",
      "Requirement already satisfied: libclang>=13.0.0 in /Users/shabnam/opt/anaconda3/envs/ARN_2023/lib/python3.9/site-packages (from tensorflow) (16.0.0)\n",
      "Requirement already satisfied: h5py>=2.9.0 in /Users/shabnam/opt/anaconda3/envs/ARN_2023/lib/python3.9/site-packages (from tensorflow) (3.8.0)\n",
      "Requirement already satisfied: grpcio<2.0,>=1.24.3 in /Users/shabnam/opt/anaconda3/envs/ARN_2023/lib/python3.9/site-packages (from tensorflow) (1.53.0)\n",
      "Requirement already satisfied: tensorboard<2.13,>=2.12 in /Users/shabnam/opt/anaconda3/envs/ARN_2023/lib/python3.9/site-packages (from tensorflow) (2.12.1)\n",
      "Requirement already satisfied: gast<=0.4.0,>=0.2.1 in /Users/shabnam/opt/anaconda3/envs/ARN_2023/lib/python3.9/site-packages (from tensorflow) (0.4.0)\n",
      "Requirement already satisfied: numpy<1.24,>=1.22 in /Users/shabnam/opt/anaconda3/envs/ARN_2023/lib/python3.9/site-packages (from tensorflow) (1.23.5)\n",
      "Requirement already satisfied: wheel<1.0,>=0.23.0 in /Users/shabnam/opt/anaconda3/envs/ARN_2023/lib/python3.9/site-packages (from astunparse>=1.6.0->tensorflow) (0.38.4)\n",
      "Requirement already satisfied: ml-dtypes>=0.0.3 in /Users/shabnam/opt/anaconda3/envs/ARN_2023/lib/python3.9/site-packages (from jax>=0.3.15->tensorflow) (0.1.0)\n",
      "Requirement already satisfied: scipy>=1.7 in /Users/shabnam/opt/anaconda3/envs/ARN_2023/lib/python3.9/site-packages (from jax>=0.3.15->tensorflow) (1.9.1)\n",
      "Requirement already satisfied: tensorboard-data-server<0.8.0,>=0.7.0 in /Users/shabnam/opt/anaconda3/envs/ARN_2023/lib/python3.9/site-packages (from tensorboard<2.13,>=2.12->tensorflow) (0.7.0)\n",
      "Requirement already satisfied: werkzeug>=1.0.1 in /Users/shabnam/opt/anaconda3/envs/ARN_2023/lib/python3.9/site-packages (from tensorboard<2.13,>=2.12->tensorflow) (2.2.3)\n",
      "Requirement already satisfied: google-auth-oauthlib<1.1,>=0.5 in /Users/shabnam/opt/anaconda3/envs/ARN_2023/lib/python3.9/site-packages (from tensorboard<2.13,>=2.12->tensorflow) (1.0.0)\n",
      "Requirement already satisfied: google-auth<3,>=1.6.3 in /Users/shabnam/opt/anaconda3/envs/ARN_2023/lib/python3.9/site-packages (from tensorboard<2.13,>=2.12->tensorflow) (2.17.2)\n",
      "Requirement already satisfied: tensorboard-plugin-wit>=1.6.0 in /Users/shabnam/opt/anaconda3/envs/ARN_2023/lib/python3.9/site-packages (from tensorboard<2.13,>=2.12->tensorflow) (1.8.1)\n",
      "Requirement already satisfied: requests<3,>=2.21.0 in /Users/shabnam/opt/anaconda3/envs/ARN_2023/lib/python3.9/site-packages (from tensorboard<2.13,>=2.12->tensorflow) (2.28.2)\n",
      "Requirement already satisfied: markdown>=2.6.8 in /Users/shabnam/opt/anaconda3/envs/ARN_2023/lib/python3.9/site-packages (from tensorboard<2.13,>=2.12->tensorflow) (3.4.3)\n",
      "Requirement already satisfied: rsa<5,>=3.1.4 in /Users/shabnam/opt/anaconda3/envs/ARN_2023/lib/python3.9/site-packages (from google-auth<3,>=1.6.3->tensorboard<2.13,>=2.12->tensorflow) (4.9)\n",
      "Requirement already satisfied: pyasn1-modules>=0.2.1 in /Users/shabnam/opt/anaconda3/envs/ARN_2023/lib/python3.9/site-packages (from google-auth<3,>=1.6.3->tensorboard<2.13,>=2.12->tensorflow) (0.2.8)\n",
      "Requirement already satisfied: cachetools<6.0,>=2.0.0 in /Users/shabnam/opt/anaconda3/envs/ARN_2023/lib/python3.9/site-packages (from google-auth<3,>=1.6.3->tensorboard<2.13,>=2.12->tensorflow) (5.3.0)\n",
      "Requirement already satisfied: requests-oauthlib>=0.7.0 in /Users/shabnam/opt/anaconda3/envs/ARN_2023/lib/python3.9/site-packages (from google-auth-oauthlib<1.1,>=0.5->tensorboard<2.13,>=2.12->tensorflow) (1.3.1)\n",
      "Requirement already satisfied: importlib-metadata>=4.4 in /Users/shabnam/opt/anaconda3/envs/ARN_2023/lib/python3.9/site-packages (from markdown>=2.6.8->tensorboard<2.13,>=2.12->tensorflow) (6.3.0)\n",
      "Requirement already satisfied: urllib3<1.27,>=1.21.1 in /Users/shabnam/opt/anaconda3/envs/ARN_2023/lib/python3.9/site-packages (from requests<3,>=2.21.0->tensorboard<2.13,>=2.12->tensorflow) (1.26.15)\n",
      "Requirement already satisfied: charset-normalizer<4,>=2 in /Users/shabnam/opt/anaconda3/envs/ARN_2023/lib/python3.9/site-packages (from requests<3,>=2.21.0->tensorboard<2.13,>=2.12->tensorflow) (3.1.0)\n",
      "Requirement already satisfied: idna<4,>=2.5 in /Users/shabnam/opt/anaconda3/envs/ARN_2023/lib/python3.9/site-packages (from requests<3,>=2.21.0->tensorboard<2.13,>=2.12->tensorflow) (3.4)\n",
      "Requirement already satisfied: certifi>=2017.4.17 in /Users/shabnam/opt/anaconda3/envs/ARN_2023/lib/python3.9/site-packages (from requests<3,>=2.21.0->tensorboard<2.13,>=2.12->tensorflow) (2022.12.7)\n",
      "Requirement already satisfied: MarkupSafe>=2.1.1 in /Users/shabnam/opt/anaconda3/envs/ARN_2023/lib/python3.9/site-packages (from werkzeug>=1.0.1->tensorboard<2.13,>=2.12->tensorflow) (2.1.2)\n",
      "Requirement already satisfied: zipp>=0.5 in /Users/shabnam/opt/anaconda3/envs/ARN_2023/lib/python3.9/site-packages (from importlib-metadata>=4.4->markdown>=2.6.8->tensorboard<2.13,>=2.12->tensorflow) (3.15.0)\n",
      "Requirement already satisfied: pyasn1<0.5.0,>=0.4.6 in /Users/shabnam/opt/anaconda3/envs/ARN_2023/lib/python3.9/site-packages (from pyasn1-modules>=0.2.1->google-auth<3,>=1.6.3->tensorboard<2.13,>=2.12->tensorflow) (0.4.8)\n",
      "Requirement already satisfied: oauthlib>=3.0.0 in /Users/shabnam/opt/anaconda3/envs/ARN_2023/lib/python3.9/site-packages (from requests-oauthlib>=0.7.0->google-auth-oauthlib<1.1,>=0.5->tensorboard<2.13,>=2.12->tensorflow) (3.2.2)\n",
      "Note: you may need to restart the kernel to use updated packages.\n",
      "Requirement already satisfied: keras in /Users/shabnam/opt/anaconda3/envs/ARN_2023/lib/python3.9/site-packages (2.12.0)\n",
      "Note: you may need to restart the kernel to use updated packages.\n"
     ]
    }
   ],
   "source": [
    "%pip install tensorflow --upgrade\n",
    "%pip install keras --upgrade\n",
    "\n",
    "import numpy as np\n",
    "from matplotlib import pyplot as pl\n",
    "\n",
    "from keras.datasets import mnist\n",
    "from keras.models import Sequential\n",
    "from keras.layers.core import Dense, Dropout\n",
    "from tensorflow.keras.optimizers import RMSprop\n",
    "from keras.utils import np_utils\n",
    "from sklearn import metrics as me\n",
    "\n",
    "%matplotlib inline"
   ]
  },
  {
   "cell_type": "markdown",
   "metadata": {
    "id": "Vy0wRnm2bUde"
   },
   "source": [
    "## Using raw data to train a MLP\n",
    "First load the `mnist` dataset and normalize it to be in the range [0, 1]"
   ]
  },
  {
   "cell_type": "code",
   "execution_count": 3,
   "metadata": {
    "colab": {
     "base_uri": "https://localhost:8080/",
     "height": 51
    },
    "id": "8CKuJwcibUdi",
    "outputId": "62b6c3c9-af3b-4769-c557-cd6c74afcefe"
   },
   "outputs": [
    {
     "name": "stdout",
     "output_type": "stream",
     "text": [
      "60000 train samples\n",
      "10000 test samples\n"
     ]
    }
   ],
   "source": [
    "(X_train, y_train), (X_test, y_test) = mnist.load_data()\n",
    "\n",
    "X_train = X_train.reshape(60000, 784)\n",
    "X_test = X_test.reshape(10000, 784)\n",
    "X_train = X_train.astype('float32')\n",
    "X_test = X_test.astype('float32')\n",
    "X_train /= 255\n",
    "X_test /= 255\n",
    "print(X_train.shape[0], 'train samples')\n",
    "print(X_test.shape[0], 'test samples')\n",
    "\n",
    "n_classes = 10\n",
    "# convert class vectors to binary class matrices\n",
    "Y_train = np_utils.to_categorical(y_train, n_classes)\n",
    "Y_test = np_utils.to_categorical(y_test, n_classes)"
   ]
  },
  {
   "cell_type": "markdown",
   "metadata": {
    "id": "01XwVeDNbUdv"
   },
   "source": [
    "Create the MLP"
   ]
  },
  {
   "cell_type": "code",
   "execution_count": 4,
   "metadata": {
    "colab": {
     "base_uri": "https://localhost:8080/",
     "height": 221
    },
    "id": "DNgzrBJEbUd0",
    "outputId": "f34f82a1-cd6b-474f-8186-a0c61f81a08c"
   },
   "outputs": [
    {
     "name": "stdout",
     "output_type": "stream",
     "text": [
      "Model: \"sequential\"\n",
      "_________________________________________________________________\n",
      " Layer (type)                Output Shape              Param #   \n",
      "=================================================================\n",
      " dense (Dense)               (None, 300)               235500    \n",
      "                                                                 \n",
      " dense_1 (Dense)             (None, 10)                3010      \n",
      "                                                                 \n",
      "=================================================================\n",
      "Total params: 238,510\n",
      "Trainable params: 238,510\n",
      "Non-trainable params: 0\n",
      "_________________________________________________________________\n"
     ]
    }
   ],
   "source": [
    "model = Sequential()\n",
    "model.add(Dense(300, input_shape=(784,), activation='relu'))\n",
    "#model.add(Dropout(0.5))\n",
    "model.add(Dense(n_classes, activation='softmax'))\n",
    "\n",
    "model.summary()"
   ]
  },
  {
   "cell_type": "markdown",
   "metadata": {
    "id": "Peiq9GR2bUeN"
   },
   "source": [
    "Define some constants and train the MLP"
   ]
  },
  {
   "cell_type": "code",
   "execution_count": 5,
   "metadata": {
    "colab": {
     "base_uri": "https://localhost:8080/",
     "height": 374
    },
    "id": "NBt-ReqIbUeR",
    "outputId": "b1e07312-0ddd-4a6c-a52d-c762dda98b1b"
   },
   "outputs": [
    {
     "name": "stdout",
     "output_type": "stream",
     "text": [
      "Epoch 1/10\n",
      "422/422 [==============================] - 1s 3ms/step - loss: 0.3043 - accuracy: 0.9136 - val_loss: 0.1349 - val_accuracy: 0.9635\n",
      "Epoch 2/10\n",
      "422/422 [==============================] - 1s 2ms/step - loss: 0.1324 - accuracy: 0.9616 - val_loss: 0.0908 - val_accuracy: 0.9757\n",
      "Epoch 3/10\n",
      "422/422 [==============================] - 1s 3ms/step - loss: 0.0899 - accuracy: 0.9739 - val_loss: 0.0841 - val_accuracy: 0.9767\n",
      "Epoch 4/10\n",
      "422/422 [==============================] - 1s 3ms/step - loss: 0.0655 - accuracy: 0.9807 - val_loss: 0.0878 - val_accuracy: 0.9758\n",
      "Epoch 5/10\n",
      "422/422 [==============================] - 1s 2ms/step - loss: 0.0506 - accuracy: 0.9855 - val_loss: 0.0782 - val_accuracy: 0.9758\n",
      "Epoch 6/10\n",
      "422/422 [==============================] - 1s 3ms/step - loss: 0.0405 - accuracy: 0.9878 - val_loss: 0.0645 - val_accuracy: 0.9820\n",
      "Epoch 7/10\n",
      "422/422 [==============================] - 1s 3ms/step - loss: 0.0323 - accuracy: 0.9899 - val_loss: 0.0643 - val_accuracy: 0.9807\n",
      "Epoch 8/10\n",
      "422/422 [==============================] - 1s 3ms/step - loss: 0.0251 - accuracy: 0.9929 - val_loss: 0.0638 - val_accuracy: 0.9830\n",
      "Epoch 9/10\n",
      "422/422 [==============================] - 1s 3ms/step - loss: 0.0199 - accuracy: 0.9947 - val_loss: 0.0673 - val_accuracy: 0.9828\n",
      "Epoch 10/10\n",
      "422/422 [==============================] - 1s 3ms/step - loss: 0.0163 - accuracy: 0.9953 - val_loss: 0.0655 - val_accuracy: 0.9822\n"
     ]
    }
   ],
   "source": [
    "batch_size = 128\n",
    "n_epoch = 10\n",
    "\n",
    "model.compile(loss='categorical_crossentropy', optimizer=RMSprop(), metrics=['accuracy'])\n",
    "\n",
    "history = model.fit(X_train, Y_train,\n",
    "                    batch_size=batch_size, epochs=n_epoch,\n",
    "                    verbose=1, validation_split=0.1)"
   ]
  },
  {
   "cell_type": "markdown",
   "metadata": {
    "id": "7u_zpHr5bUeb"
   },
   "source": [
    "Show the performance of the model"
   ]
  },
  {
   "cell_type": "code",
   "execution_count": 6,
   "metadata": {
    "colab": {
     "base_uri": "https://localhost:8080/",
     "height": 299
    },
    "id": "PHXi21E1bUef",
    "outputId": "b153b1ab-4795-4704-b1a3-f28d4d636043"
   },
   "outputs": [
    {
     "name": "stdout",
     "output_type": "stream",
     "text": [
      "Test score: 0.06296776980161667\n",
      "Test accuracy: 0.9807999730110168\n"
     ]
    },
    {
     "data": {
      "image/png": "[encoded data removed]",
      "text/plain": [
       "<Figure size 640x480 with 1 Axes>"
      ]
     },
     "metadata": {},
     "output_type": "display_data"
    }
   ],
   "source": [
    "pl.plot(history.history['loss'], label='Training')\n",
    "pl.plot(history.history['val_loss'], label='Testing')\n",
    "pl.legend()\n",
    "pl.grid()\n",
    "\n",
    "score = model.evaluate(X_test, Y_test, verbose=0)\n",
    "print('Test score:', score[0])\n",
    "print('Test accuracy:', score[1])"
   ]
  },
  {
   "cell_type": "markdown",
   "metadata": {
    "id": "jLuFK6MobUet"
   },
   "source": [
    "Confusion matrix"
   ]
  },
  {
   "cell_type": "code",
   "execution_count": 7,
   "metadata": {
    "colab": {
     "base_uri": "https://localhost:8080/",
     "height": 187
    },
    "id": "PAjwjjrjbUex",
    "outputId": "c96b6cf1-3bb9-4056-a6ec-0f20921828c3"
   },
   "outputs": [
    {
     "name": "stdout",
     "output_type": "stream",
     "text": [
      "313/313 [==============================] - 0s 1ms/step\n"
     ]
    },
    {
     "data": {
      "text/plain": [
       "array([[ 970,    0,    0,    1,    0,    0,    4,    1,    3,    1],\n",
       "       [   0, 1129,    2,    1,    0,    1,    2,    0,    0,    0],\n",
       "       [   4,    3, 1008,    1,    2,    0,    2,    6,    6,    0],\n",
       "       [   0,    1,   10,  985,    0,    3,    0,    1,    4,    6],\n",
       "       [   1,    1,    3,    1,  962,    0,    3,    1,    1,    9],\n",
       "       [   3,    0,    0,    6,    1,  868,    6,    2,    5,    1],\n",
       "       [   4,    2,    1,    1,    2,    2,  946,    0,    0,    0],\n",
       "       [   0,    3,    7,    2,    0,    0,    0, 1009,    2,    5],\n",
       "       [   4,    0,    3,    4,    5,    2,    3,    2,  948,    3],\n",
       "       [   3,    3,    0,    4,    9,    2,    0,    5,    0,  983]])"
      ]
     },
     "execution_count": 7,
     "metadata": {},
     "output_type": "execute_result"
    }
   ],
   "source": [
    "pred = model.predict(X_test)\n",
    "pred = np.argmax(pred, axis=-1)\n",
    "me.confusion_matrix(y_test, pred)"
   ]
  },
  {
   "cell_type": "code",
   "execution_count": null,
   "metadata": {},
   "outputs": [],
   "source": []
  }
 ],
 "metadata": {
  "accelerator": "GPU",
  "colab": {
   "collapsed_sections": [],
   "name": "MLP_from_raw_data.ipynb",
   "provenance": []
  },
  "kernelspec": {
   "display_name": "Python 3 (ipykernel)",
   "language": "python",
   "name": "python3"
  },
  "language_info": {
   "codemirror_mode": {
    "name": "ipython",
    "version": 3
   },
   "file_extension": ".py",
   "mimetype": "text/x-python",
   "name": "python",
   "nbconvert_exporter": "python",
   "pygments_lexer": "ipython3",
   "version": "3.9.16"
  }
 },
 "nbformat": 4,
 "nbformat_minor": 1
}
